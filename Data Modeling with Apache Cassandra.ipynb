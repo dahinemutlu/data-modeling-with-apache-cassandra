{
 "cells": [
  {
   "cell_type": "markdown",
   "metadata": {},
   "source": [
    "# Project: Data Modeling with Cassandra\n",
    "\n",
    "**Author:** Dahi Nemutlu\\\n",
    "**Date:** April 14 2024\n",
    "\n",
    "## Table of Contents\n",
    "<ul>\n",
    "<li><a href=\"#introduction\">Introduction</a></li>\n",
    "<li><a href=\"#pre-processing\">ETL Pipeline for Pre-Processing the Files</a></li>\n",
    "<li><a href=\"#cassandra\">Modeling the Data with Apache Cassandra</a></li>\n",
    "   <ul>\n",
    "      <li><a href=\"#query1\">Modeling the Table for the 1st Query</a></li>\n",
    "      <li><a href=\"#query2\">Modeling the Table for the 2nd Query</a></li>\n",
    "      <li><a href=\"#query3\">Modeling the Table for the 3rd Query</a></li>\n",
    "   </ul>\n",
    "</ul>"
   ]
  },
  {
   "cell_type": "markdown",
   "metadata": {},
   "source": [
    "<a id='introduction'></a>\n",
    "## Introduction\n",
    "A startup called Sparkify wants to analyze the data they've been collecting on songs and user activity on their new music streaming app. The analysis team is particularly interested in understanding what songs users are listening to. The data reside in a directory of CSV files (event_data).\n",
    "\n",
    "The purpose of the project is to create an Apache Cassandra database which can create queries on song play data to answer the questions given to by the analytics team. This project aims to create an ETL pipeline that transfers data from a set of CSV files within a directory to create a streamlined CSV file to model and insert data into Apache Cassandra tables."
   ]
  },
  {
   "cell_type": "markdown",
   "metadata": {},
   "source": [
    "#### Import Python packages"
   ]
  },
  {
   "cell_type": "code",
   "execution_count": 1,
   "metadata": {},
   "outputs": [],
   "source": [
    "# Import Python packages \n",
    "import pandas as pd\n",
    "import cassandra\n",
    "from cassandra.cluster import Cluster\n",
    "import os"
   ]
  },
  {
   "cell_type": "markdown",
   "metadata": {},
   "source": [
    "<a id='pre-processing'></a>\n",
    "## ETL Pipeline for Pre-Processing the Files"
   ]
  },
  {
   "cell_type": "markdown",
   "metadata": {},
   "source": [
    "#### Processing the files to create the data file csv that will be used for Apache Casssandra tables"
   ]
  },
  {
   "cell_type": "code",
   "execution_count": 2,
   "metadata": {},
   "outputs": [],
   "source": [
    "# define the file path and file extension for the input files\n",
    "path = './event_data/'\n",
    "extension = '.csv'\n",
    "\n",
    "# create a list of CSV file names\n",
    "files = [file for file in os.listdir(path) if file.endswith(extension)]\n",
    "\n",
    "# import the CSV files into Pandas\n",
    "dfs = []\n",
    "for file in files:\n",
    "    df = pd.read_csv(os.path.join(path, file))\n",
    "    # append each DataFrame to a list to concatenate them later\n",
    "    # exclude the rows where 'artist' column is null\n",
    "    dfs.append(df[~df['artist'].isnull()])\n",
    "\n",
    "# concatenate the DataFrames into one\n",
    "df = pd.concat(dfs, ignore_index=True)\n",
    "\n",
    "# drop unnecessary columns\n",
    "df.drop(['auth', 'method', 'page', 'registration', 'status', 'ts'], axis=1, inplace=True)\n",
    "\n",
    "# write the DataFrame to a CSV file\n",
    "df.to_csv('event_datafile_new.csv', index=False)"
   ]
  },
  {
   "cell_type": "markdown",
   "metadata": {},
   "source": [
    "<a id='cassandra'></a>\n",
    "## Modeling the Data with Apache Cassandra\n",
    "\n",
    "Now we are ready to work with the CSV file titled `event_datafile_new.csv`, located within the Workspace directory.  The event_datafile_new.csv contains the following columns: \n",
    "- artist \n",
    "- firstName of user\n",
    "- gender of user\n",
    "- item number in session\n",
    "- last name of user\n",
    "- length of the song\n",
    "- level (paid or free song)\n",
    "- location of the user\n",
    "- sessionId\n",
    "- song title\n",
    "- userId"
   ]
  },
  {
   "cell_type": "markdown",
   "metadata": {},
   "source": [
    "#### Creating a Cluster"
   ]
  },
  {
   "cell_type": "code",
   "execution_count": 3,
   "metadata": {},
   "outputs": [],
   "source": [
    "# create a connection to the database\n",
    "try: \n",
    "    cluster = Cluster(['localhost']) # if you have a locally installed Apache Cassandra instance\n",
    "    session = cluster.connect()\n",
    "except Exception as e:\n",
    "    print(e)"
   ]
  },
  {
   "cell_type": "markdown",
   "metadata": {},
   "source": [
    "#### Create Keyspace"
   ]
  },
  {
   "cell_type": "code",
   "execution_count": 4,
   "metadata": {},
   "outputs": [],
   "source": [
    "try:\n",
    "    session.execute(\"\"\"\n",
    "    CREATE KEYSPACE IF NOT EXISTS udacity \n",
    "    WITH REPLICATION = \n",
    "    { 'class' : 'SimpleStrategy', 'replication_factor' : 1 }\"\"\"\n",
    ")\n",
    "except Exception as e:\n",
    "    print(e)"
   ]
  },
  {
   "cell_type": "markdown",
   "metadata": {},
   "source": [
    "#### Set Keyspace"
   ]
  },
  {
   "cell_type": "code",
   "execution_count": 5,
   "metadata": {},
   "outputs": [],
   "source": [
    "try:\n",
    "    session.set_keyspace('udacity')\n",
    "except Exception as e:\n",
    "    print(e)"
   ]
  },
  {
   "cell_type": "markdown",
   "metadata": {},
   "source": [
    "Now we need to create tables to run the following queries. (With Apache Cassandra we model the database tables on the queries we want to run.)\n",
    "1. Give me the artist, song title and song's length in the music app history that was heard during  sessionId = 338, and itemInSession  = 4\n",
    "2. Give me only the following: name of artist, song (sorted by itemInSession) and user (first and last name) for userid = 10, sessionid = 182\n",
    "3. Give me every user name (first and last) in my music app history who listened to the song 'All Hands Against His Own'"
   ]
  },
  {
   "cell_type": "markdown",
   "metadata": {},
   "source": [
    "<a id='query1'></a>\n",
    "### Modeling the Table for the 1st Query\n",
    "#### Query\n",
    "Give me the artist, song title and song's length in the music app history that was heard during  sessionId = 338, and itemInSession  = 4\n",
    "\n",
    "#### Model\n",
    "To efficiently query the data for a specific `session_id` and `item_in_session`, as required by the given query;\n",
    "- `session_id` and `item_in_session` are used as the composite primary key.\n",
    "  - `session_id` is the partition key, ensuring data for each session is stored together.\n",
    "  - `item_in_session` is used as a clustering column, allowing efficient sorting of data within each session.\n",
    "\n",
    "<img src=\"images/table1.png\">"
   ]
  },
  {
   "cell_type": "markdown",
   "metadata": {},
   "source": [
    "#### Create the Cassandra Table"
   ]
  },
  {
   "cell_type": "code",
   "execution_count": 6,
   "metadata": {},
   "outputs": [],
   "source": [
    "query = \"CREATE TABLE IF NOT EXISTS udacity.session_song_history \"\n",
    "query = query + \"(session_id int, item_in_session int, artist text, song text, length float, PRIMARY KEY (session_id, item_in_session))\"\n",
    "try:\n",
    "    session.execute(query)\n",
    "except Exception as e:\n",
    "    print(e)"
   ]
  },
  {
   "cell_type": "markdown",
   "metadata": {},
   "source": [
    "#### Insert Data into Table"
   ]
  },
  {
   "cell_type": "code",
   "execution_count": 7,
   "metadata": {},
   "outputs": [],
   "source": [
    "query = \"INSERT INTO udacity.session_song_history(session_id, item_in_session, artist, song, length) VALUES (?, ?, ?, ?, ?)\"\n",
    "prepared = session.prepare(query)\n",
    "\n",
    "for index, row in df.iterrows(): \n",
    "    session.execute(prepared, (row.sessionId, row.itemInSession, row.artist, row.song, row.length))"
   ]
  },
  {
   "cell_type": "markdown",
   "metadata": {},
   "source": [
    "#### Verify that the data have been inserted into the table"
   ]
  },
  {
   "cell_type": "code",
   "execution_count": 8,
   "metadata": {},
   "outputs": [
    {
     "name": "stdout",
     "output_type": "stream",
     "text": [
      "Number of records in DataFrame: 6820\n",
      "Number of records in Cassandra table: 6820\n"
     ]
    }
   ],
   "source": [
    "query = \"SELECT COUNT(*) FROM udacity.session_song_history;\"\n",
    "try:\n",
    "    row_count = session.execute(query)\n",
    "except Exception as e:\n",
    "    print(e)\n",
    "\n",
    "print ('Number of records in DataFrame:', len(df))\n",
    "print ('Number of records in Cassandra table:', row_count.one().count)"
   ]
  },
  {
   "cell_type": "markdown",
   "metadata": {},
   "source": [
    "#### Execute the 1st query"
   ]
  },
  {
   "cell_type": "code",
   "execution_count": 9,
   "metadata": {},
   "outputs": [
    {
     "name": "stdout",
     "output_type": "stream",
     "text": [
      "Faithless Music Matters (Mark Knight Dub) 495.30731201171875\n"
     ]
    }
   ],
   "source": [
    "# Give me the artist, song title and song's length in the music app history that was heard during sessionId = 338, and itemInSession = 4\n",
    "query = \"select artist, song, length from udacity.session_song_history where session_id = 338 and item_in_session = 4;\"\n",
    "try:\n",
    "    rows = session.execute(query)\n",
    "except Exception as e:\n",
    "    print(e)\n",
    "    \n",
    "for row in rows:\n",
    "    print (row.artist, row.song, row.length)"
   ]
  },
  {
   "cell_type": "markdown",
   "metadata": {},
   "source": [
    "<a id='query2'></a>\n",
    "### Modeling the Table for the 2nd Query\n",
    "#### Query\n",
    "Give me only the following: name of artist, song (sorted by itemInSession) and user (first and last name) for userid = 10, sessionid = 182\n",
    "\n",
    "#### Model\n",
    "\n",
    "Given the query's requirements, we need to be able to filter by both `user_id` and `session_id`, and sort the results by `item_in_session`. Therefore;\n",
    "- `user_id` and `session_id` will be used as partition keys, ensuring data for each user session is stored together.\n",
    "- `item_in_session` is used as a clustering column to sort the results within each partition according to the order of items in the session.\n",
    "\n",
    "<img src=\"images/table2.png\">"
   ]
  },
  {
   "cell_type": "markdown",
   "metadata": {},
   "source": [
    "#### Create the Cassandra Table"
   ]
  },
  {
   "cell_type": "code",
   "execution_count": 10,
   "metadata": {},
   "outputs": [],
   "source": [
    "query = \"CREATE TABLE IF NOT EXISTS udacity.user_session_song_history \"\n",
    "query = query + \"(user_id float, session_id int, item_in_session int, artist text, song text, first_name text, last_name text, PRIMARY KEY ((user_id, session_id), item_in_session))\"\n",
    "try:\n",
    "    session.execute(query)\n",
    "except Exception as e:\n",
    "    print(e)"
   ]
  },
  {
   "cell_type": "markdown",
   "metadata": {},
   "source": [
    "#### Insert Data into Table"
   ]
  },
  {
   "cell_type": "code",
   "execution_count": 11,
   "metadata": {},
   "outputs": [],
   "source": [
    "query = \"INSERT INTO udacity.user_session_song_history(user_id, session_id, item_in_session, artist, song, first_name, last_name) VALUES (?, ?, ?, ?, ?, ?, ?)\"\n",
    "prepared = session.prepare(query)\n",
    "\n",
    "for index, row in df.iterrows(): \n",
    "    session.execute(prepared, (row.userId, row.sessionId, row.itemInSession, row.artist, row.song, row.firstName, row.lastName))"
   ]
  },
  {
   "cell_type": "markdown",
   "metadata": {},
   "source": [
    "#### Verify that the data have been inserted into the table"
   ]
  },
  {
   "cell_type": "code",
   "execution_count": 12,
   "metadata": {},
   "outputs": [
    {
     "name": "stdout",
     "output_type": "stream",
     "text": [
      "Number of records in DataFrame: 6820\n",
      "Number of records in Cassandra table: 6820\n"
     ]
    }
   ],
   "source": [
    "query = \"SELECT COUNT(*) FROM udacity.user_session_song_history;\"\n",
    "try:\n",
    "    row_count = session.execute(query)\n",
    "except Exception as e:\n",
    "    print(e)\n",
    "\n",
    "print ('Number of records in DataFrame:', len(df))\n",
    "print ('Number of records in Cassandra table:', row_count.one().count)"
   ]
  },
  {
   "cell_type": "markdown",
   "metadata": {},
   "source": [
    "#### Execute the 2nd query"
   ]
  },
  {
   "cell_type": "code",
   "execution_count": 13,
   "metadata": {},
   "outputs": [
    {
     "name": "stdout",
     "output_type": "stream",
     "text": [
      "Down To The Bone Keep On Keepin' On Sylvie Cruz\n",
      "Three Drives Greece 2000 Sylvie Cruz\n",
      "Sebastien Tellier Kilometer Sylvie Cruz\n",
      "Lonnie Gordon Catch You Baby (Steve Pitron & Max Sanna Radio Edit) Sylvie Cruz\n"
     ]
    }
   ],
   "source": [
    "# Give me only the following: name of artist, song (sorted by itemInSession) and user (first and last name) for userid = 10, sessionid = 182\n",
    "query = \"select artist, song, first_name, last_name from udacity.user_session_song_history where user_id = 10 and session_id = 182;\"\n",
    "try:\n",
    "    rows = session.execute(query)\n",
    "except Exception as e:\n",
    "    print(e)\n",
    "    \n",
    "for row in rows:\n",
    "    print (row.artist, row.song, row.first_name, row.last_name)"
   ]
  },
  {
   "cell_type": "markdown",
   "metadata": {},
   "source": [
    "<a id='query3'></a>\n",
    "### Modeling the Table for the 3rd Query\n",
    "#### Query\n",
    "Give me every user name (first and last) in my music app history who listened to the song 'All Hands Against His Own'\n",
    "\n",
    "#### Model\n",
    "Since the query involves searching for users who listened to a specific song, let's use `song` as the partition key. Additionally, we need to include `user_id` as a clustering column to ensure each user's name is unique.\n",
    "\n",
    "- `song` is used as the partition key to ensure that all data for a particular song is stored together.\n",
    "- `user_id` is used as a clustering column to ensure each user's name is unique within a song's partition.\n",
    "\n",
    "Therefore, we can efficiently query the data to retrieve the first and last names of all users who listened to a specific song.\n",
    "\n",
    "<img src=\"images/table3.png\">"
   ]
  },
  {
   "cell_type": "markdown",
   "metadata": {},
   "source": [
    "#### Create the Cassandra Table"
   ]
  },
  {
   "cell_type": "code",
   "execution_count": 14,
   "metadata": {},
   "outputs": [],
   "source": [
    "query = \"CREATE TABLE IF NOT EXISTS udacity.user_song_history \"\n",
    "query = query + \"(song text, user_id float, first_name text, last_name text, PRIMARY KEY (song, user_id))\"\n",
    "try:\n",
    "    session.execute(query)\n",
    "except Exception as e:\n",
    "    print(e)"
   ]
  },
  {
   "cell_type": "markdown",
   "metadata": {},
   "source": [
    "#### Insert Data into Table"
   ]
  },
  {
   "cell_type": "code",
   "execution_count": 15,
   "metadata": {},
   "outputs": [],
   "source": [
    "query = \"INSERT INTO udacity.user_song_history(song, user_id, first_name, last_name) VALUES (?, ?, ?, ?)\"\n",
    "prepared = session.prepare(query)\n",
    "\n",
    "for index, row in df.iterrows(): \n",
    "    session.execute(prepared, (row.song, row.userId, row.firstName, row.lastName))"
   ]
  },
  {
   "cell_type": "markdown",
   "metadata": {},
   "source": [
    "#### Verify that the data have been inserted into the table"
   ]
  },
  {
   "cell_type": "code",
   "execution_count": 16,
   "metadata": {},
   "outputs": [
    {
     "name": "stdout",
     "output_type": "stream",
     "text": [
      "Number of records in DataFrame: 6820\n",
      "Number of records in Cassandra table: 6618\n"
     ]
    }
   ],
   "source": [
    "query = \"SELECT COUNT(*) FROM udacity.user_song_history;\"\n",
    "try:\n",
    "    row_count = session.execute(query)\n",
    "except Exception as e:\n",
    "    print(e)\n",
    "\n",
    "print ('Number of records in DataFrame:', len(df))\n",
    "print ('Number of records in Cassandra table:', row_count.one().count)"
   ]
  },
  {
   "cell_type": "markdown",
   "metadata": {},
   "source": [
    "#### Execute the 3rd query"
   ]
  },
  {
   "cell_type": "code",
   "execution_count": 17,
   "metadata": {},
   "outputs": [
    {
     "name": "stdout",
     "output_type": "stream",
     "text": [
      "Jacqueline Lynch\n",
      "Tegan Levine\n",
      "Sara Johnson\n"
     ]
    }
   ],
   "source": [
    "# Give me every user name (first and last) in my music app history who listened to the song 'All Hands Against His Own'\n",
    "query = \"select first_name, last_name from udacity.user_song_history where song = 'All Hands Against His Own';\"\n",
    "try:\n",
    "    rows = session.execute(query)\n",
    "except Exception as e:\n",
    "    print(e)\n",
    "    \n",
    "for row in rows:\n",
    "    print (row.first_name, row.last_name)"
   ]
  },
  {
   "cell_type": "markdown",
   "metadata": {},
   "source": [
    "#### Drop the tables before closing out the sessions"
   ]
  },
  {
   "cell_type": "code",
   "execution_count": 18,
   "metadata": {},
   "outputs": [],
   "source": [
    "query = \"drop table udacity.session_song_history\"\n",
    "try:\n",
    "    rows = session.execute(query)\n",
    "except Exception as e:\n",
    "    print(e)\n",
    "\n",
    "query = \"drop table udacity.user_session_song_history\"\n",
    "try:\n",
    "    rows = session.execute(query)\n",
    "except Exception as e:\n",
    "    print(e)\n",
    "\n",
    "query = \"drop table udacity.user_song_history\"\n",
    "try:\n",
    "    rows = session.execute(query)\n",
    "except Exception as e:\n",
    "    print(e)"
   ]
  },
  {
   "cell_type": "markdown",
   "metadata": {},
   "source": [
    "#### Drop the keyspace"
   ]
  },
  {
   "cell_type": "code",
   "execution_count": 19,
   "metadata": {},
   "outputs": [],
   "source": [
    "query = \"drop keyspace udacity;\"\n",
    "try:\n",
    "    rows = session.execute(query)\n",
    "except Exception as e:\n",
    "    print(e)"
   ]
  },
  {
   "cell_type": "markdown",
   "metadata": {},
   "source": [
    "#### Close the session and cluster connection"
   ]
  },
  {
   "cell_type": "code",
   "execution_count": 20,
   "metadata": {},
   "outputs": [],
   "source": [
    "session.shutdown()\n",
    "cluster.shutdown()"
   ]
  }
 ],
 "metadata": {
  "kernelspec": {
   "display_name": "Python 3",
   "language": "python",
   "name": "python3"
  },
  "language_info": {
   "codemirror_mode": {
    "name": "ipython",
    "version": 3
   },
   "file_extension": ".py",
   "mimetype": "text/x-python",
   "name": "python",
   "nbconvert_exporter": "python",
   "pygments_lexer": "ipython3",
   "version": "3.11.9"
  }
 },
 "nbformat": 4,
 "nbformat_minor": 2
}
